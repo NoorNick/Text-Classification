{
 "cells": [
  {
   "cell_type": "markdown",
   "id": "cd4ca23f",
   "metadata": {},
   "source": [
    "## Text Classification using SVM"
   ]
  },
  {
   "cell_type": "markdown",
   "id": "93665132",
   "metadata": {},
   "source": [
    "### Libraries"
   ]
  },
  {
   "cell_type": "code",
   "execution_count": 10,
   "id": "a871097d",
   "metadata": {},
   "outputs": [],
   "source": [
    "from sklearn.svm import SVC\n",
    "from sklearn.preprocessing import StandardScaler\n",
    "from sklearn.feature_extraction.text import TfidfVectorizer\n",
    "from sklearn.model_selection import train_test_split\n",
    "from sklearn.metrics import classification_report\n",
    "import numpy as np"
   ]
  },
  {
   "cell_type": "markdown",
   "id": "3b9b57de",
   "metadata": {},
   "source": [
    "### Create a simple dataset then split for training and testing"
   ]
  },
  {
   "cell_type": "code",
   "execution_count": 11,
   "id": "3bcc43fb",
   "metadata": {},
   "outputs": [],
   "source": [
    "# Expanded sample text data\n",
    "texts = [\n",
    "    \"I love this movie, it was great\",\n",
    "    \"Terrible film, I hated it\",\n",
    "    \"Amazing story and acting\",\n",
    "    \"Worst movie ever, complete waste of time\",\n",
    "    \"Brilliant director and excellent plot\",\n",
    "    \"So boring and predictable\",\n",
    "    \"Great acting and great story\",\n",
    "    \"I hated this boring movie\",\n",
    "    \"Excellent plot and great directing\",\n",
    "    \"Complete waste of time and money\",\n",
    "    \"Loved the brilliant performance\",\n",
    "    \"Predictable story, boring direction\",\n",
    "    \"The film was amazing and the plot was excellent\",\n",
    "    \"Terrible acting and bad story\",\n",
    "    \"A very predictable movie, nothing new\",\n",
    "    \"Great story, great film, I loved it\"\n",
    "]\n",
    "labels = [1, 0, 1, 0, 1, 0, \n",
    "          1, 0, 1, 0, 1, 0, \n",
    "          1, 0, 0, 1]  # 1: positive, 0: negative\n",
    "\n",
    "# Train-test split\n",
    "from sklearn.model_selection import train_test_split\n",
    "\n",
    "X_train, X_test, y_train, y_test = train_test_split(\n",
    "    texts, labels, test_size=0.3, random_state=42\n",
    ")"
   ]
  },
  {
   "cell_type": "markdown",
   "id": "a2128ae0",
   "metadata": {},
   "source": [
    "### Conver text to numerical"
   ]
  },
  {
   "cell_type": "code",
   "execution_count": 12,
   "id": "3ba58185",
   "metadata": {},
   "outputs": [],
   "source": [
    "# Step 1: Convert text to numerical features using TF-IDF\n",
    "vectorizer = TfidfVectorizer(\n",
    "    max_features=1000,  # Limit vocabulary size\n",
    "    min_df=2,           # Minimum document frequency\n",
    "    stop_words='english'  # Remove common words\n",
    ")\n",
    "X_train_tfidf = vectorizer.fit_transform(X_train)\n",
    "X_test_tfidf = vectorizer.transform(X_test)\n"
   ]
  },
  {
   "cell_type": "markdown",
   "id": "265a7144",
   "metadata": {},
   "source": [
    "### train and evaluate the model"
   ]
  },
  {
   "cell_type": "code",
   "execution_count": 13,
   "id": "708358e8",
   "metadata": {},
   "outputs": [
    {
     "name": "stdout",
     "output_type": "stream",
     "text": [
      "              precision    recall  f1-score   support\n",
      "\n",
      "    Negative       1.00      0.50      0.67         4\n",
      "    Positive       0.33      1.00      0.50         1\n",
      "\n",
      "    accuracy                           0.60         5\n",
      "   macro avg       0.67      0.75      0.58         5\n",
      "weighted avg       0.87      0.60      0.63         5\n",
      "\n"
     ]
    }
   ],
   "source": [
    "# Step 2: Train SVM model (linear kernel works best for text)\n",
    "svm_model = SVC(kernel='linear', random_state=42)\n",
    "svm_model.fit(X_train_tfidf, y_train)\n",
    "\n",
    "# Evaluate\n",
    "y_pred = svm_model.predict(X_test_tfidf)\n",
    "print(classification_report(y_test, y_pred, target_names=['Negative', 'Positive']))\n"
   ]
  },
  {
   "cell_type": "code",
   "execution_count": 16,
   "id": "112ea5d3",
   "metadata": {},
   "outputs": [
    {
     "name": "stdout",
     "output_type": "stream",
     "text": [
      "Top positive features:\n",
      "acting: 0.6223\n",
      "amazing: 0.6116\n",
      "great: 0.5978\n",
      "brilliant: 0.5830\n",
      "loved: 0.5437\n",
      "plot: 0.3911\n",
      "excellent: 0.3911\n",
      "film: 0.2530\n",
      "story: 0.0700\n",
      "movie: -0.4886\n",
      "\n",
      "Top negative features:\n",
      "boring: -1.2131\n",
      "complete: -0.6390\n",
      "time: -0.6390\n",
      "waste: -0.6390\n",
      "movie: -0.4886\n",
      "story: 0.0700\n",
      "film: 0.2530\n",
      "excellent: 0.3911\n",
      "plot: 0.3911\n",
      "loved: 0.5437\n"
     ]
    }
   ],
   "source": [
    "# Extract important features\n",
    "def show_important_features(model, vectorizer, n=10):\n",
    "    import numpy as np\n",
    "\n",
    "    # Get feature names\n",
    "    feature_names = vectorizer.get_feature_names_out()\n",
    "    \n",
    "    # Convert coefficients to dense NumPy array\n",
    "    coefficients = model.coef_.toarray()[0]  # now it's a 1D NumPy array\n",
    "    \n",
    "    # Get top positive and negative features\n",
    "    top_positive_idx = np.argsort(coefficients)[-n:]\n",
    "    top_negative_idx = np.argsort(coefficients)[:n]\n",
    "    \n",
    "    print(\"Top positive features:\")\n",
    "    for idx in reversed(top_positive_idx):\n",
    "        print(f\"{feature_names[idx]}: {coefficients[idx]:.4f}\")\n",
    "    \n",
    "    print(\"\\nTop negative features:\")\n",
    "    for idx in top_negative_idx:\n",
    "        print(f\"{feature_names[idx]}: {coefficients[idx]:.4f}\")\n",
    "\n",
    "show_important_features(svm_model, vectorizer)\n"
   ]
  },
  {
   "cell_type": "markdown",
   "id": "211c3bea",
   "metadata": {},
   "source": [
    "### plot the features"
   ]
  },
  {
   "cell_type": "code",
   "execution_count": 18,
   "id": "04ed4a44",
   "metadata": {},
   "outputs": [
    {
     "data": {
      "image/png": "[encoded data removed]",
      "text/plain": [
       "<Figure size 1000x600 with 1 Axes>"
      ]
     },
     "metadata": {},
     "output_type": "display_data"
    }
   ],
   "source": [
    "import matplotlib.pyplot as plt\n",
    "\n",
    "def plot_important_features(model, vectorizer, n=10):\n",
    "    # Get feature names\n",
    "    feature_names = vectorizer.get_feature_names_out()\n",
    "\n",
    "    # Convert sparse coefficients to dense array\n",
    "    coefficients = model.coef_.toarray()[0]\n",
    "\n",
    "    # Get top positive and negative indices\n",
    "    top_positive_idx = np.argsort(coefficients)[-n:]\n",
    "    top_negative_idx = np.argsort(coefficients)[:n]\n",
    "\n",
    "    # Combine the indices\n",
    "    top_indices = np.concatenate([top_negative_idx, top_positive_idx])\n",
    "    top_features = feature_names[top_indices]\n",
    "    top_coefficients = coefficients[top_indices]\n",
    "\n",
    "    # Color coding: red for negative, green for positive\n",
    "    colors = ['lightcoral'] * n + ['lightgreen'] * n\n",
    "\n",
    "    # Plot\n",
    "    plt.figure(figsize=(10, 6))\n",
    "    plt.barh(top_features, top_coefficients, color=colors)\n",
    "    plt.xlabel(\"Coefficient Value\")\n",
    "    plt.title(f\"Top {n} Positive and Negative Features\")\n",
    "    plt.axvline(0, color='black', linestyle='--')\n",
    "    plt.tight_layout()\n",
    "    plt.show()\n",
    "\n",
    "# Example usage:\n",
    "plot_important_features(svm_model, vectorizer, n=10)\n"
   ]
  }
 ],
 "metadata": {
  "kernelspec": {
   "display_name": "base",
   "language": "python",
   "name": "python3"
  },
  "language_info": {
   "codemirror_mode": {
    "name": "ipython",
    "version": 3
   },
   "file_extension": ".py",
   "mimetype": "text/x-python",
   "name": "python",
   "nbconvert_exporter": "python",
   "pygments_lexer": "ipython3",
   "version": "3.12.4"
  }
 },
 "nbformat": 4,
 "nbformat_minor": 5
}
